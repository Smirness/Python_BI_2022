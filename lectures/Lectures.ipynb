{
 "cells": [
  {
   "cell_type": "markdown",
   "id": "232fcaac",
   "metadata": {},
   "source": [
    "17.09.2022\n",
    "Коллекции(списки, )"
   ]
  },
  {
   "cell_type": "code",
   "execution_count": null,
   "id": "cd3d13a0",
   "metadata": {},
   "outputs": [],
   "source": [
    "for i in range(0, 12, 2):\n",
    "    print(i)"
   ]
  },
  {
   "cell_type": "code",
   "execution_count": 15,
   "id": "e5cff5a4",
   "metadata": {},
   "outputs": [],
   "source": [
    "anime = ('jojo', 'berserk', 'evangelion')"
   ]
  },
  {
   "cell_type": "code",
   "execution_count": 35,
   "id": "42826fd4",
   "metadata": {},
   "outputs": [
    {
     "name": "stdout",
     "output_type": "stream",
     "text": [
      "jojo\n",
      "berserk\n",
      "evangelion\n"
     ]
    }
   ],
   "source": [
    "for i in anime:\n",
    "    print(i)"
   ]
  },
  {
   "cell_type": "code",
   "execution_count": 16,
   "id": "3ee1d301",
   "metadata": {},
   "outputs": [
    {
     "name": "stdout",
     "output_type": "stream",
     "text": [
      "3\n"
     ]
    }
   ],
   "source": [
    "lengh =len (anime)\n",
    "print(lengh)"
   ]
  },
  {
   "cell_type": "code",
   "execution_count": 18,
   "id": "679af77b",
   "metadata": {},
   "outputs": [
    {
     "data": {
      "text/plain": [
       "1"
      ]
     },
     "execution_count": 18,
     "metadata": {},
     "output_type": "execute_result"
    }
   ],
   "source": [
    "anime.count('jojo')"
   ]
  },
  {
   "cell_type": "code",
   "execution_count": 19,
   "id": "17b677d7",
   "metadata": {},
   "outputs": [
    {
     "data": {
      "text/plain": [
       "5"
      ]
     },
     "execution_count": 19,
     "metadata": {},
     "output_type": "execute_result"
    }
   ],
   "source": [
    "xs = [42, True, 'abc', [10], 16.5]\n",
    "len(xs)"
   ]
  },
  {
   "cell_type": "code",
   "execution_count": 28,
   "id": "801c9c4a",
   "metadata": {},
   "outputs": [
    {
     "data": {
      "text/plain": [
       "[16.5, [10], 'abc', True, 42]"
      ]
     },
     "execution_count": 28,
     "metadata": {},
     "output_type": "execute_result"
    }
   ],
   "source": [
    "xs[::-1]"
   ]
  },
  {
   "cell_type": "code",
   "execution_count": 34,
   "id": "6c353968",
   "metadata": {},
   "outputs": [
    {
     "data": {
      "text/plain": [
       "5"
      ]
     },
     "execution_count": 34,
     "metadata": {},
     "output_type": "execute_result"
    }
   ],
   "source": [
    "olig = 'ACTGACTG'\n",
    "olig[::-1]"
   ]
  },
  {
   "cell_type": "code",
   "execution_count": 43,
   "id": "6f2d88f5",
   "metadata": {},
   "outputs": [
    {
     "data": {
      "text/plain": [
       "'actgactg'"
      ]
     },
     "execution_count": 43,
     "metadata": {},
     "output_type": "execute_result"
    }
   ],
   "source": [
    "olig.lower()"
   ]
  },
  {
   "cell_type": "code",
   "execution_count": 56,
   "id": "2eb6a2f8",
   "metadata": {},
   "outputs": [
    {
     "data": {
      "text/plain": [
       "'+5'"
      ]
     },
     "execution_count": 56,
     "metadata": {},
     "output_type": "execute_result"
    }
   ],
   "source": [
    "phones = {\n",
    "    'Bogdan': '+1',\n",
    "    'Andrey': '+2',\n",
    "    'Anya': '+3'\n",
    "}\n",
    "\n",
    "phones['Bogdan'] = '+5'\n",
    "phones['Bogdan']"
   ]
  },
  {
   "cell_type": "code",
   "execution_count": 80,
   "id": "a601d32c",
   "metadata": {},
   "outputs": [
    {
     "data": {
      "text/plain": [
       "'U'"
      ]
     },
     "execution_count": 80,
     "metadata": {},
     "output_type": "execute_result"
    }
   ],
   "source": [
    "dna2rna = {\n",
    "    'A': 'A',\n",
    "    'T': 'U',\n",
    "    'C': 'C',\n",
    "    'G': 'G',\n",
    "}\n",
    "dna2rna['T']"
   ]
  },
  {
   "cell_type": "code",
   "execution_count": 62,
   "id": "ed4e9a6e",
   "metadata": {},
   "outputs": [
    {
     "name": "stdout",
     "output_type": "stream",
     "text": [
      "A A\n",
      "T U\n",
      "C C\n",
      "G G\n"
     ]
    }
   ],
   "source": [
    "for nt in dna2rna:\n",
    "    print(nt, dna2rna[nt])"
   ]
  },
  {
   "cell_type": "code",
   "execution_count": 66,
   "id": "b86fd17e",
   "metadata": {},
   "outputs": [
    {
     "name": "stdout",
     "output_type": "stream",
     "text": [
      "A A\n",
      "T U\n",
      "C C\n",
      "G G\n"
     ]
    }
   ],
   "source": [
    "for dnt, rnt in dna2rna.items():\n",
    "    print(dnt, rnt)"
   ]
  },
  {
   "cell_type": "code",
   "execution_count": 73,
   "id": "b0a1534f",
   "metadata": {},
   "outputs": [
    {
     "data": {
      "text/plain": [
       "[20, 30, 40]"
      ]
     },
     "execution_count": 73,
     "metadata": {},
     "output_type": "execute_result"
    }
   ],
   "source": [
    "x, *y = [10, 20, 30, 40]\n",
    "y"
   ]
  },
  {
   "cell_type": "code",
   "execution_count": 82,
   "id": "92b51399",
   "metadata": {},
   "outputs": [],
   "source": [
    "del dna2rna['A']"
   ]
  },
  {
   "cell_type": "code",
   "execution_count": 84,
   "id": "0af752bc",
   "metadata": {},
   "outputs": [
    {
     "data": {
      "text/plain": [
       "{'T': 'U', 'C': 'C', 'G': 'G'}"
      ]
     },
     "execution_count": 84,
     "metadata": {},
     "output_type": "execute_result"
    }
   ],
   "source": [
    "dna2rna"
   ]
  },
  {
   "cell_type": "code",
   "execution_count": null,
   "id": "fa767985",
   "metadata": {},
   "outputs": [],
   "source": []
  }
 ],
 "metadata": {
  "kernelspec": {
   "display_name": "Python 3 (ipykernel)",
   "language": "python",
   "name": "python3"
  },
  "language_info": {
   "codemirror_mode": {
    "name": "ipython",
    "version": 3
   },
   "file_extension": ".py",
   "mimetype": "text/x-python",
   "name": "python",
   "nbconvert_exporter": "python",
   "pygments_lexer": "ipython3",
   "version": "3.9.12"
  }
 },
 "nbformat": 4,
 "nbformat_minor": 5
}
