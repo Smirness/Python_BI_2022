{
 "cells": [
  {
   "cell_type": "markdown",
   "id": "635e18cb",
   "metadata": {},
   "source": [
    "Function"
   ]
  },
  {
   "cell_type": "code",
   "execution_count": 2,
   "id": "791d1fcc",
   "metadata": {},
   "outputs": [],
   "source": [
    "x = 5"
   ]
  },
  {
   "cell_type": "code",
   "execution_count": 6,
   "id": "0165d27e",
   "metadata": {},
   "outputs": [
    {
     "name": "stdout",
     "output_type": "stream",
     "text": [
      "\n"
     ]
    }
   ],
   "source": [
    "print()"
   ]
  },
  {
   "cell_type": "code",
   "execution_count": 10,
   "id": "7f25d9c9",
   "metadata": {},
   "outputs": [
    {
     "data": {
      "text/plain": [
       "3"
      ]
     },
     "execution_count": 10,
     "metadata": {},
     "output_type": "execute_result"
    }
   ],
   "source": [
    "list = (2,3,4)\n",
    "len(list)"
   ]
  },
  {
   "cell_type": "code",
   "execution_count": 37,
   "id": "953f6626",
   "metadata": {},
   "outputs": [],
   "source": [
    "def Cel2Far(celsium):\n",
    "    \"\"\"\n",
    "    Convert celsium to fahr\n",
    "    :param float x: Convert celsium to fahr\n",
    "    :return: float\n",
    "    \"\"\"\n",
    "    fah = 9 / 5 * celsium + 32\n",
    "    return fah"
   ]
  },
  {
   "cell_type": "code",
   "execution_count": 36,
   "id": "e9dff1a5",
   "metadata": {},
   "outputs": [
    {
     "data": {
      "text/plain": [
       "37.4"
      ]
     },
     "execution_count": 36,
     "metadata": {},
     "output_type": "execute_result"
    }
   ],
   "source": [
    "Cel2Far(3)"
   ]
  },
  {
   "cell_type": "code",
   "execution_count": 52,
   "id": "24ea47a5",
   "metadata": {},
   "outputs": [],
   "source": [
    "def times(a, b, c=1):\n",
    "    res = a*b*c\n",
    "    return res"
   ]
  },
  {
   "cell_type": "code",
   "execution_count": 53,
   "id": "effb2a15",
   "metadata": {},
   "outputs": [
    {
     "name": "stdout",
     "output_type": "stream",
     "text": [
      "4\n"
     ]
    }
   ],
   "source": [
    "times = times(2, 2)\n",
    "print(times)"
   ]
  },
  {
   "cell_type": "code",
   "execution_count": 1,
   "id": "935c42e2",
   "metadata": {},
   "outputs": [],
   "source": [
    "def f(x):\n",
    "    return str(x*100) + '%'"
   ]
  },
  {
   "cell_type": "code",
   "execution_count": 8,
   "id": "1550f466",
   "metadata": {},
   "outputs": [
    {
     "data": {
      "text/plain": [
       "'20.0%'"
      ]
     },
     "execution_count": 8,
     "metadata": {},
     "output_type": "execute_result"
    }
   ],
   "source": [
    "x = 10\n",
    "f(0.2)"
   ]
  },
  {
   "cell_type": "code",
   "execution_count": 11,
   "id": "ec7ddbc9",
   "metadata": {},
   "outputs": [],
   "source": [
    "def f():\n",
    "    return 5, 10"
   ]
  },
  {
   "cell_type": "code",
   "execution_count": 13,
   "id": "41cd2df8",
   "metadata": {},
   "outputs": [],
   "source": [
    " x, y = f()"
   ]
  },
  {
   "cell_type": "code",
   "execution_count": 49,
   "id": "c091caff",
   "metadata": {},
   "outputs": [],
   "source": [
    "def multiply(*args, **kwargs):\n",
    "    res = 1\n",
    "    for arg in args:\n",
    "        res *= arg\n",
    "    return res"
   ]
  },
  {
   "cell_type": "code",
   "execution_count": 50,
   "id": "6423d296",
   "metadata": {},
   "outputs": [
    {
     "data": {
      "text/plain": [
       "6"
      ]
     },
     "execution_count": 50,
     "metadata": {},
     "output_type": "execute_result"
    }
   ],
   "source": [
    "multiply(1, 2, 3, sep='')"
   ]
  },
  {
   "cell_type": "code",
   "execution_count": 28,
   "id": "8c1b833f",
   "metadata": {},
   "outputs": [],
   "source": [
    "print()"
   ]
  }
 ],
 "metadata": {
  "kernelspec": {
   "display_name": "Python 3 (ipykernel)",
   "language": "python",
   "name": "python3"
  },
  "language_info": {
   "codemirror_mode": {
    "name": "ipython",
    "version": 3
   },
   "file_extension": ".py",
   "mimetype": "text/x-python",
   "name": "python",
   "nbconvert_exporter": "python",
   "pygments_lexer": "ipython3",
   "version": "3.9.12"
  }
 },
 "nbformat": 4,
 "nbformat_minor": 5
}
